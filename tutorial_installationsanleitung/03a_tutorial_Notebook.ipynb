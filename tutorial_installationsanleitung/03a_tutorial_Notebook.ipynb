{
  "nbformat": 4,
  "nbformat_minor": 0,
  "metadata": {
    "colab": {
      "name": "Tutorial Notebook.ipynb",
      "provenance": [],
      "collapsed_sections": []
    },
    "kernelspec": {
      "name": "python3",
      "display_name": "Python 3"
    }
  },
  "cells": [
    {
      "cell_type": "markdown",
      "metadata": {
        "id": "B_6tNNQzCkjj"
      },
      "source": [
        "# Erste Python-Grundlagen\n",
        "Hier finden Sie eine kurze Einführung in ausgewählte Python-Grundlagen. Ziel des Tutorials ist es, Ihnen eine erste Einführung in Python zu geben, sodass Sie dem Workshop folgen können. Zögern Sie nicht uns bei Fragen rund um dieses Tutorial direkt zu kontaktieren (buschhue@uni-potsdam.de, peter.wulff@uni-potsdam.de).\n",
        "\n",
        "Führen Sie dieses Tutorial am besten gleich in Ihrer Python-Installation aus. Nutzen Sie dabei die Entwicklungsumgebung Spyder (oder eine Umgebung Ihrer Wahl).\n",
        "\n",
        "## 1. Module\n",
        "\n",
        "Analog zur Rs Paketen gibt es bei Python sogenannte Module (siehe auch die Installationsanleitung). Hierin befinden sich zum Beispiel nützliche Funktionen. Anders als bei R ist es in Python üblich die Module unter einem *alias* zu laden (`import Modulename as Aliasname`).\n"
      ]
    },
    {
      "cell_type": "code",
      "metadata": {
        "id": "-nPxgYAgF0nW"
      },
      "source": [
        "# erst laden wir einige Module\n",
        "\n",
        "import pandas as pd # insbesondere für data frames\n",
        "import sklearn as sk # für shallow machine learning"
      ],
      "execution_count": null,
      "outputs": []
    },
    {
      "cell_type": "markdown",
      "metadata": {
        "id": "N7aoqe84Mf5N"
      },
      "source": [
        "So lässt sich z.B. auf Funktionen zurückgreifen, ohne dass es zu Konflikten kommt, weil zwei Funktionen aus verschiedenen Modulen einen gleichen Namen haben. \n",
        "\n",
        "Eine elementare Datenstruktur in python sind Pandas' DataFrames (analog zu Rs data.frame). Im Folgenden erstellen wir ein DataFrame aus dem Modul pandas:"
      ]
    },
    {
      "cell_type": "code",
      "metadata": {
        "id": "mqriXnLSMiT0"
      },
      "source": [
        "# nutze die Klasse DataFrame aus pandas und erstelle daraus das Objekt DataFrame\n",
        "dataframe = pd.DataFrame([1,2,3,4])"
      ],
      "execution_count": null,
      "outputs": []
    },
    {
      "cell_type": "markdown",
      "metadata": {
        "id": "EdAUEhx_xBDq"
      },
      "source": [
        "## 2. Zuweisungen\n",
        "In Python lassen sich mit einem Gleichheitszeichen Variablen einen Wert zuweisen. \n",
        "\n",
        "Im folgenden Beispiel wird der Variable x der Wert 12 zugewiesen."
      ]
    },
    {
      "cell_type": "code",
      "metadata": {
        "id": "7Qmfn6ufxTd9"
      },
      "source": [
        "x = 12"
      ],
      "execution_count": null,
      "outputs": []
    },
    {
      "cell_type": "markdown",
      "metadata": {
        "id": "ATnFasqyHKMM"
      },
      "source": [
        "## 3. Daten Typen\n",
        "\n",
        "In Python gibt es verschiedene Datentypen. Die für unsere Zwecke wichtigsten Datentypen sind:\n",
        "\n",
        "* int: 1 (Integer, Ganze Zahl)\n",
        "* float: 0.3 (Float: Gleitkommazahlen)\n",
        "* bool: True, False (Boolean: Boolsche Werte)\n",
        "* str: \"Hello\" (String: Zeichenkette)\n",
        "\n",
        "\n"
      ]
    },
    {
      "cell_type": "code",
      "metadata": {
        "id": "5Vhnovy_14Vb"
      },
      "source": [
        "# integer\n",
        "a = 1\n",
        "# float\n",
        "b = 0.3\n",
        "# boolean\n",
        "c = True\n",
        "# string\n",
        "d = \"Hello\"\n"
      ],
      "execution_count": null,
      "outputs": []
    },
    {
      "cell_type": "markdown",
      "metadata": {
        "id": "mhw7GoEL2MoA"
      },
      "source": [
        "Der Typ eines Objektes (z.B. einer Variable) lässt sich mit der Funktion ```type```\n",
        "ermitteln\n"
      ]
    },
    {
      "cell_type": "code",
      "metadata": {
        "id": "WbMCKqwL2adE",
        "outputId": "04703afa-1804-4bd5-9cad-c7450082256a",
        "colab": {
          "base_uri": "https://localhost:8080/"
        }
      },
      "source": [
        "type(b)"
      ],
      "execution_count": null,
      "outputs": [
        {
          "output_type": "execute_result",
          "data": {
            "text/plain": [
              "float"
            ]
          },
          "metadata": {
            "tags": []
          },
          "execution_count": 5
        }
      ]
    },
    {
      "cell_type": "markdown",
      "metadata": {
        "id": "a5YfOXUY2rfs"
      },
      "source": [
        "## 4. Komplexere Datenstrukturen: Listen (lists) und Wörterbücher (Dictionairies)\n",
        "\n",
        "Im Folgenden finden Sie einige Datentypen, die sich aus obigen Datentypen zusammensetzen können"
      ]
    },
    {
      "cell_type": "code",
      "metadata": {
        "id": "a4LrILYD0Koo"
      },
      "source": [
        "firstnames = [\"David\",\"Peter\",\"Christina\", \"Tobias\"]\n",
        "lastnames = [\"Buschhueter\",\"Wulff\",\"Meyer\", \"Schneider\"]\n",
        "ages = [35,30,12, 20]\n",
        "mix = [\"2\",1] # die Elemente der Liste können auch diverse Typen enthalten\n"
      ],
      "execution_count": null,
      "outputs": []
    },
    {
      "cell_type": "markdown",
      "metadata": {
        "id": "B5AFXUt10IzS"
      },
      "source": [
        "\n",
        "Listen sind geordnet. Das heißt, man kann über einen Index auf die einzelnen Elemente der Liste zugreifen. \n"
      ]
    },
    {
      "cell_type": "code",
      "metadata": {
        "id": "STDqkWeV0jf7",
        "outputId": "e9560d4f-8270-4392-94e8-aa6dbe6d974c",
        "colab": {
          "base_uri": "https://localhost:8080/",
          "height": 36
        }
      },
      "source": [
        "firstnames[1]"
      ],
      "execution_count": null,
      "outputs": [
        {
          "output_type": "execute_result",
          "data": {
            "application/vnd.google.colaboratory.intrinsic+json": {
              "type": "string"
            },
            "text/plain": [
              "'Peter'"
            ]
          },
          "metadata": {
            "tags": []
          },
          "execution_count": 7
        }
      ]
    },
    {
      "cell_type": "markdown",
      "metadata": {
        "id": "5UXpwpg60poP"
      },
      "source": [
        "Dabei zeigt sich schon ein Unterschied zu R. Python fängt bei null an zu zählen.\n",
        "\n",
        "Zudem funktioniert das \"Slicing\" etwas anders: Hier hilft es die Kommas zu zählen (das erste Komma folgt nach David, das dritte nach Christina):"
      ]
    },
    {
      "cell_type": "code",
      "metadata": {
        "id": "L2cnjlU1y7Y-",
        "outputId": "f1990652-7413-450f-d2b6-4429d64ec18a",
        "colab": {
          "base_uri": "https://localhost:8080/"
        }
      },
      "source": [
        "firstnames[1:3]\n"
      ],
      "execution_count": null,
      "outputs": [
        {
          "output_type": "execute_result",
          "data": {
            "text/plain": [
              "['Peter', 'Christina']"
            ]
          },
          "metadata": {
            "tags": []
          },
          "execution_count": 8
        }
      ]
    },
    {
      "cell_type": "markdown",
      "metadata": {
        "id": "-JfhY9w8zL2F"
      },
      "source": [
        "Im Folgenden erstellen wir ein dictionairy, das einem eindeutigen Key (hier der Vorname) einen Nachnamen zuordnet. Elemente im Python-Dictionary sind sog. ```key```-```value```-Pairs. Der Key ist hier der Vorname und die Values sind die Nachnamen."
      ]
    },
    {
      "cell_type": "code",
      "metadata": {
        "id": "U1TfMRl-zGQH",
        "outputId": "4f94fa96-c620-42bd-f9e7-c35635055e17",
        "colab": {
          "base_uri": "https://localhost:8080/"
        }
      },
      "source": [
        "fullnames = {\"David\": \"Buschhüter\",\"Peter\": \"Wulff\", \"Christina\": \"Meyer\"}\n",
        "type(fullnames)"
      ],
      "execution_count": null,
      "outputs": [
        {
          "output_type": "execute_result",
          "data": {
            "text/plain": [
              "dict"
            ]
          },
          "metadata": {
            "tags": []
          },
          "execution_count": 9
        }
      ]
    },
    {
      "cell_type": "markdown",
      "metadata": {
        "id": "hMDDf00uzBhf"
      },
      "source": [
        "Dictionairies sind ungeordnet. Das heißt wir können nicht wie oben (im Beispiel der Liste) mittels eines Index auf einzelne Elemente zurückgreifen. Wir können aber auf die Werte (z.B. Meyer) zugreifen in dem wir den Key (z.B. Christina) nutzen:"
      ]
    },
    {
      "cell_type": "code",
      "metadata": {
        "id": "4xesExS84Em2",
        "outputId": "5cba6aa0-8dcf-4f45-d4df-c83601d7e6d9",
        "colab": {
          "base_uri": "https://localhost:8080/",
          "height": 36
        }
      },
      "source": [
        "fullnames.get(\"Christina\") # alternativ: fullnames['Christina']"
      ],
      "execution_count": null,
      "outputs": [
        {
          "output_type": "execute_result",
          "data": {
            "application/vnd.google.colaboratory.intrinsic+json": {
              "type": "string"
            },
            "text/plain": [
              "'Meyer'"
            ]
          },
          "metadata": {
            "tags": []
          },
          "execution_count": 10
        }
      ]
    },
    {
      "cell_type": "markdown",
      "metadata": {
        "id": "1hBo6BWu5sz7"
      },
      "source": [
        "## 5. Methoden und Funktionen\n",
        "\n",
        "In R gibt es im Allgemeinen Funktionen und Objekte. Die Funktionen können auf Objekte angewendet werden. In Python sind diese Operationen aber z.T. in den Objekten \"versteckt\". Dies haben wir z.B. schon oben gesehen : ```fullnames.get(\"Christina\")```. Die Methode ist hier Teil des Objekts ```fullnames```. Man nennt diese Operationen **Methoden**\n",
        "\n",
        "Dennoch gibt es auch **Funktionen**. Diese stehen für sich allein z.B. `len` (gibt die Länge eines objects an).\n",
        "\n",
        "Für Experten: In Python gibt es sog. Dunder-Methods, die solche Operationen definieren. Bspw. kann mit ```firstnames.__len__()``` dieselbe Funktion ausgeführt werden.\n",
        "\n"
      ]
    },
    {
      "cell_type": "code",
      "metadata": {
        "id": "YCyFdzn75nv4",
        "outputId": "ca310d22-199e-48bc-fadd-947ab5ca28bb",
        "colab": {
          "base_uri": "https://localhost:8080/"
        }
      },
      "source": [
        "len(firstnames)"
      ],
      "execution_count": null,
      "outputs": [
        {
          "output_type": "execute_result",
          "data": {
            "text/plain": [
              "4"
            ]
          },
          "metadata": {
            "tags": []
          },
          "execution_count": 11
        }
      ]
    },
    {
      "cell_type": "code",
      "metadata": {
        "id": "GICGiF2c72Yy",
        "outputId": "6d6d305b-a0f0-4850-927c-2d8ce48f53b2",
        "colab": {
          "base_uri": "https://localhost:8080/"
        }
      },
      "source": [
        "len(\"David\")"
      ],
      "execution_count": null,
      "outputs": [
        {
          "output_type": "execute_result",
          "data": {
            "text/plain": [
              "5"
            ]
          },
          "metadata": {
            "tags": []
          },
          "execution_count": 12
        }
      ]
    },
    {
      "cell_type": "markdown",
      "metadata": {
        "id": "sqBsVHY3JaHY"
      },
      "source": [
        "## 6. Vergleiche\n",
        "\n",
        "In Python sind (wie in den meisten Programmiersprachen) Kontrollstrukturen definiert wie etwa Schleifen und konditionale Abfragen. Bspw. können Wenn-dann Abfragen sich z.B. wie folgt nutzen lassen (siehe: https://www.hdm-stuttgart.de/~maucher/Python/html/Kontrollstrukturen.html).\n",
        "\n",
        "Dabei sind die Operatoren:\n",
        "\n",
        "* == \tgleich\n",
        "* != \tungleich\n",
        "* < \tkleiner als \n",
        "* \\> \tgrößer als\n",
        "* <= \tkleiner als oder gleich\n",
        "* \\>= größer als oder gleich\n",
        "\n",
        "Hier ein Beispiel mit Strings:"
      ]
    },
    {
      "cell_type": "code",
      "metadata": {
        "id": "Wn4uqG_-NtMe",
        "outputId": "c8576d5e-c0a6-4512-cf03-48252f5321f3",
        "colab": {
          "base_uri": "https://localhost:8080/"
        }
      },
      "source": [
        "a = \"Flora\"\n",
        "b = \"Tanja\"\n",
        "a == b"
      ],
      "execution_count": null,
      "outputs": [
        {
          "output_type": "execute_result",
          "data": {
            "text/plain": [
              "False"
            ]
          },
          "metadata": {
            "tags": []
          },
          "execution_count": 13
        }
      ]
    },
    {
      "cell_type": "markdown",
      "metadata": {
        "id": "VNsk-rbwOBGM"
      },
      "source": [
        "Hier ein Beispiel mit Integeren:\n"
      ]
    },
    {
      "cell_type": "code",
      "metadata": {
        "id": "o41AHfGBN_gj",
        "outputId": "843ae0ab-4ac2-4c00-94c3-bc87a08e97e6",
        "colab": {
          "base_uri": "https://localhost:8080/"
        }
      },
      "source": [
        "a = 2\n",
        "b = 42\n",
        "b > a"
      ],
      "execution_count": null,
      "outputs": [
        {
          "output_type": "execute_result",
          "data": {
            "text/plain": [
              "True"
            ]
          },
          "metadata": {
            "tags": []
          },
          "execution_count": 14
        }
      ]
    },
    {
      "cell_type": "markdown",
      "metadata": {
        "id": "KMB03DuZNgW_"
      },
      "source": [
        "## 7. Logische Abfragen\n",
        "\n",
        "Die Operatoren für logische Abfragen sind \n",
        "\n",
        "* and: und\n",
        "* or: oder \n",
        "* not: nicht (Verneinung)"
      ]
    },
    {
      "cell_type": "code",
      "metadata": {
        "id": "7xjDypkJLmo2",
        "outputId": "3aadb4aa-690f-4ead-f8bf-2467e1636011",
        "colab": {
          "base_uri": "https://localhost:8080/"
        }
      },
      "source": [
        "# and\n",
        "a = 1\n",
        "b = 1\n",
        "a == 1 and b == 1"
      ],
      "execution_count": null,
      "outputs": [
        {
          "output_type": "execute_result",
          "data": {
            "text/plain": [
              "True"
            ]
          },
          "metadata": {
            "tags": []
          },
          "execution_count": 15
        }
      ]
    },
    {
      "cell_type": "code",
      "metadata": {
        "id": "2pJ3g4auPBDZ",
        "outputId": "21ff476f-3643-4c83-bc58-d5e0200b8f09",
        "colab": {
          "base_uri": "https://localhost:8080/"
        }
      },
      "source": [
        "# not - nicht (Verneinung)\n",
        "not a == 1 "
      ],
      "execution_count": null,
      "outputs": [
        {
          "output_type": "execute_result",
          "data": {
            "text/plain": [
              "False"
            ]
          },
          "metadata": {
            "tags": []
          },
          "execution_count": 16
        }
      ]
    },
    {
      "cell_type": "code",
      "metadata": {
        "id": "ZacNOE89PH5Y",
        "outputId": "6db5c957-0fe8-4faf-b0da-939a0dac6b92",
        "colab": {
          "base_uri": "https://localhost:8080/"
        }
      },
      "source": [
        "# or - oder\n",
        "a=1 \n",
        "c=2\n",
        "a!= 1 or c==2"
      ],
      "execution_count": null,
      "outputs": [
        {
          "output_type": "execute_result",
          "data": {
            "text/plain": [
              "True"
            ]
          },
          "metadata": {
            "tags": []
          },
          "execution_count": 17
        }
      ]
    },
    {
      "cell_type": "markdown",
      "metadata": {
        "id": "o9RrXaexNndI"
      },
      "source": [
        "## 8. Wenn-Dann-Abfragen\n",
        "\n",
        "Konditionale Abfragen werden ähnlich wie in R umgesetzt. Allerdings werden in Python Einrückungen z.B. Tabstobs, oder vier Leerzeichen verwendet (Good-Pratice: Immer die gleiche Art der Einrückung verwenden). Dazu werden die Befehle if (wenn), elif (anderenfalls, wenn) und else (sonst) verwendet. Es lassen sich so viele elif-Abfragen nutzen wie gewünscht. \n"
      ]
    },
    {
      "cell_type": "code",
      "metadata": {
        "id": "1lxlPSLyJopf",
        "outputId": "51e16195-f8ff-4205-b538-a38cf7a26476",
        "colab": {
          "base_uri": "https://localhost:8080/"
        }
      },
      "source": [
        "a = 200 \n",
        "b = 200\n",
        "if b > a: # wenn b größer a schreibe \"b ist größer als a\"\n",
        "  print(\"b ist größer als a\") \n",
        "elif a == b: # wenn b gleich a schreibe \"b ist größer als a\"\n",
        "  print(\"a und b sind gleich groß\")\n",
        "else: # sonst muss es wohl b ist kleiner als a sein\n",
        "  print(\"a ist größer als b\")\n"
      ],
      "execution_count": null,
      "outputs": [
        {
          "output_type": "stream",
          "text": [
            "a und b sind gleich groß\n"
          ],
          "name": "stdout"
        }
      ]
    },
    {
      "cell_type": "markdown",
      "metadata": {
        "id": "4x6Tbzxb8TEL"
      },
      "source": [
        "## 9. Schleifen\n",
        "\n",
        "Wie in vielen anderen Sprachen gibt es auch in Python Schleifen.\n",
        "Hier sei eine sogenannte for-Schleife dargestellt. Man beachte auch hier den Doppelpunkt und die Einrückung, hier ein Tabstop.\n",
        "\n",
        "Die Schleife läuft über die Liste `ages`. Im ersten Durchlauf ist `i` das erste Element der Liste. Im zweiten Durchlauf, das zweite Element usw.\n"
      ]
    },
    {
      "cell_type": "code",
      "metadata": {
        "id": "rXide0IM8yt1",
        "outputId": "ff533062-61e4-4c6a-e53e-048e045c1086",
        "colab": {
          "base_uri": "https://localhost:8080/"
        }
      },
      "source": [
        "# wie alt sind die Personen dieses Jahr?\n",
        "print(\"Alter:\")\n",
        "print(ages) \n",
        "\n",
        "# wie alt sind sie nächstes Jahr?\n",
        "for i in ages: # die Schleife läuft über die Liste ages\n",
        "  age_x = i + 1 # ist das ursprüngliche Alter i+1 das neue Alter\n",
        "  print(\"Neues Alter:\")\n",
        "  print(age_x)"
      ],
      "execution_count": null,
      "outputs": [
        {
          "output_type": "stream",
          "text": [
            "Alter:\n",
            "[35, 30, 12, 20]\n",
            "Neues Alter:\n",
            "36\n",
            "Neues Alter:\n",
            "31\n",
            "Neues Alter:\n",
            "13\n",
            "Neues Alter:\n",
            "21\n"
          ],
          "name": "stdout"
        }
      ]
    },
    {
      "cell_type": "markdown",
      "metadata": {
        "id": "I8_YOrvy9wMT"
      },
      "source": [
        "## 10. Eigene Funktionen schreiben\n",
        "\n",
        "Um eine Funktion selbst zu definieren, werden auch wieder Einrückungen und Doppelpunkte verwendet. Hier wird die Funktion `add_two_func` geschrieben, die den Wert `x` als (Input-)Parameter annimmt. `add_two_func` addiert den Wert zwei auf die Zahl `x` und gibt diesen neuen Wert `<(=x+2)` aus."
      ]
    },
    {
      "cell_type": "code",
      "metadata": {
        "id": "kj9sG4wl-HTm",
        "outputId": "5c03a38b-5bce-49cc-fdfc-63ca1bbc285b",
        "colab": {
          "base_uri": "https://localhost:8080/"
        }
      },
      "source": [
        "# diese Funktion addiert den Wert zwei auf eine Zahl\n",
        "def add_two_func(x=42): # 42 ist die Defaulteinstellung\n",
        "  y=x+2\n",
        "  return y\n",
        "  \n",
        "print(add_two_func(x=1))\n"
      ],
      "execution_count": 3,
      "outputs": [
        {
          "output_type": "stream",
          "text": [
            "3\n"
          ],
          "name": "stdout"
        }
      ]
    },
    {
      "cell_type": "markdown",
      "metadata": {
        "id": "8zhTDTo0DRbp"
      },
      "source": [
        "Und hier noch ein weiteres Beispiel zum selbst nachvollziehen:"
      ]
    },
    {
      "cell_type": "code",
      "metadata": {
        "id": "XuHgZBJVDgpD",
        "outputId": "a83579f7-f998-4b8e-c6ca-643af70e000a",
        "colab": {
          "base_uri": "https://localhost:8080/"
        }
      },
      "source": [
        "# ein anderes Beispiel\n",
        "\n",
        "def my_func_text(dein_name):\n",
        "  out = dein_name + \" ist super in Python.\"\n",
        "  return out\n",
        "\n",
        "print(my_func_text(dein_name = \"Tobias\"))"
      ],
      "execution_count": 5,
      "outputs": [
        {
          "output_type": "stream",
          "text": [
            "Tobias ist super in Python.\n"
          ],
          "name": "stdout"
        }
      ]
    },
    {
      "cell_type": "markdown",
      "metadata": {
        "id": "0LPXJGxTDzCv"
      },
      "source": [
        "## 11. Klassen und Objekte (Instanzen)\n",
        "\n",
        "Klassen sind so etwas wie Baupläne für Objekte. Wir schreiben hier einen einfachen \"Bauplan\" für Gemüse mit den Eigenschaften Farbe (`farbe`) und Geschmack (`geschmack`)  den Methoden: Zeige den Geschmack des Gemüses an (`zeige_geschmack`) sowie zeige die Farbe des Gemüses an (`zeige_farbe`).\n",
        "\n",
        "Die Methode `__init__` wird automatisch ausgeführt, wenn wir das Objekt initialisieren. Dabei werden dem Objekt die Eigenschaften Farbe und Geschmack zugeordnet.\n",
        "\n"
      ]
    },
    {
      "cell_type": "code",
      "metadata": {
        "id": "idhnhP_yGYJZ",
        "outputId": "9ed43eca-616a-4ddc-baab-28c228ec1356",
        "colab": {
          "base_uri": "https://localhost:8080/"
        }
      },
      "source": [
        "class gemuese():\n",
        "    \"\"\"\n",
        "    Eine einfache klasse\n",
        "    \"\"\"\n",
        "\n",
        "    def __init__(self, farbe, geschmack):\n",
        "        \"\"\"\n",
        "        intialisiere neues Gemüse\n",
        "\n",
        "        * farbe (string): Farbe\n",
        "        * geschmack (string): Geschmack des Gemüses\n",
        "        \"\"\"\n",
        "        self.farbe = farbe # weise der Instanz den die Farbe zu\n",
        "        self.geschmack = geschmack # ... und den Geschmack\n",
        "\n",
        "    # definiere einfach die Methode des Zeigens der Farbe\n",
        "    def zeige_farbe(self): \n",
        "        return self.farbe\n",
        "\n",
        "    # diese Methode fügt auch noch zwei ausrufzeichen hinzu\n",
        "    def zeige_geschmack(self): \n",
        "        return self.geschmack + \"!!!\"\n",
        "  \n",
        "# erstelle Instanz der Klasse\n",
        "saure_Gurke = gemuese(\"grün\", \"sauer\") \n",
        "# wende die Methode zeige_farbe auf die Instanz an\n",
        "print(saure_Gurke.zeige_farbe()) \n",
        "# wende die Methode zeige_geschmack auf die Instanz an\n",
        "print(saure_Gurke.zeige_geschmack()) \n"
      ],
      "execution_count": 2,
      "outputs": [
        {
          "output_type": "stream",
          "text": [
            "grün\n",
            "sauer!!!\n"
          ],
          "name": "stdout"
        }
      ]
    },
    {
      "cell_type": "markdown",
      "metadata": {
        "id": "ZOfw7sGqWfHz"
      },
      "source": [
        "Das Arbeiten mit Klassen ist für R-User sicher etwas ungewohnt. Man kann sich aber vorstellen, dass damit interessante Möglichkeiten der Programmierung eröffnet werden. Wir werden sehen, wie Klassen verwendet werden können, um Textvorverarbeitung in sogenannten Pipelines zu systematisieren."
      ]
    },
    {
      "cell_type": "markdown",
      "metadata": {
        "id": "7a7clVoIE5nW"
      },
      "source": [
        "## 12. Aufgabe\n",
        "Nachdem Sie den Code oben ausprobiert haben. Hier zwei kleine Aufgaben.\n",
        "Seien Sie dabei kreativ: \n",
        "\n",
        "1) Überlegen Sie sich eine Aufgabe für eine Schleife. Programmieren Sie diese selbstständig oder passen Sie obige Schleife an.\n",
        "\n",
        "2) Überlegen Sie sich eine Aufgabe für eine eigene Klasse. Programmieren Sie diese selbstständig oder passen Sie obige Klasse an.\n",
        "\n"
      ]
    }
  ]
}